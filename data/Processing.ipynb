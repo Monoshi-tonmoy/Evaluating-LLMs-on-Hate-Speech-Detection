{
 "cells": [
  {
   "cell_type": "code",
   "execution_count": 15,
   "metadata": {},
   "outputs": [
    {
     "name": "stdout",
     "output_type": "stream",
     "text": [
      "CSV loaded successfully with 9818 valid rows!\n",
      "Converted Master1.csv to multilingual_dataset.jsonl successfully!\n"
     ]
    }
   ],
   "source": [
    "import pandas as pd\n",
    "import json\n",
    "\n",
    "\n",
    "csv_file = \"Master1.csv\"  \n",
    "\n",
    "try:\n",
    "\n",
    "    df = pd.read_csv(csv_file, on_bad_lines=\"skip\", engine=\"python\")\n",
    "    print(f\"CSV loaded successfully with {len(df)} valid rows!\")\n",
    "\n",
    "\n",
    "    df = df.reset_index(drop=True)\n",
    "\n",
    "    df = df[['Comment', 'Translated_Comment', 'Hate Speech', 'Geography']].dropna()\n",
    "    jsonl_file = \"multilingual_dataset.jsonl\"\n",
    "\n",
    "\n",
    "    with open(jsonl_file, \"w\", encoding=\"utf-8\") as outfile:\n",
    "        for idx, row in df.iterrows():\n",
    "            json_object = row.to_dict()\n",
    "            json_object['idx'] = idx  \n",
    "            outfile.write(json.dumps(json_object, ensure_ascii=False) + \"\\n\")\n",
    "\n",
    "    print(f\"Converted {csv_file} to {jsonl_file} successfully!\")\n",
    "\n",
    "except Exception as e:\n",
    "    print(f\"An error occurred: {e}\")\n"
   ]
  },
  {
   "cell_type": "code",
   "execution_count": 17,
   "metadata": {},
   "outputs": [
    {
     "name": "stdout",
     "output_type": "stream",
     "text": [
      "Geography        Hate Speech\n",
      "Arab             1              1268\n",
      "                 0              1210\n",
      "Bangladesh       1              1000\n",
      "                 0               999\n",
      "China            0              1000\n",
      "                 1              1000\n",
      "India            0               750\n",
      "                 1               684\n",
      "Russia_Ukaraine  1               653\n",
      "                 0               651\n",
      "Name: count, dtype: int64\n"
     ]
    }
   ],
   "source": [
    "grouped_counts = df.groupby('Geography')['Hate Speech'].value_counts()\n",
    "print(grouped_counts)\n"
   ]
  },
  {
   "cell_type": "code",
   "execution_count": 12,
   "metadata": {},
   "outputs": [
    {
     "name": "stdout",
     "output_type": "stream",
     "text": [
      "9215\n"
     ]
    }
   ],
   "source": [
    "filter_df = df[['Comment', 'Translated_Comment', 'Hate Speech', 'Geography']].dropna()\n",
    "print(len(filter_df))\n"
   ]
  },
  {
   "cell_type": "code",
   "execution_count": 14,
   "metadata": {},
   "outputs": [
    {
     "data": {
      "text/plain": [
       "array(['0', '1'], dtype=object)"
      ]
     },
     "execution_count": 14,
     "metadata": {},
     "output_type": "execute_result"
    }
   ],
   "source": [
    "filter_df['Hate Speech'].unique()"
   ]
  }
 ],
 "metadata": {
  "kernelspec": {
   "display_name": "Python 3",
   "language": "python",
   "name": "python3"
  },
  "language_info": {
   "codemirror_mode": {
    "name": "ipython",
    "version": 3
   },
   "file_extension": ".py",
   "mimetype": "text/x-python",
   "name": "python",
   "nbconvert_exporter": "python",
   "pygments_lexer": "ipython3",
   "version": "3.11.2"
  }
 },
 "nbformat": 4,
 "nbformat_minor": 2
}
