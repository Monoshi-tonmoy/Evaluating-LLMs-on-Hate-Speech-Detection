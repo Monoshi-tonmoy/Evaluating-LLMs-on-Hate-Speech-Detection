{
 "cells": [
  {
   "cell_type": "code",
   "execution_count": 4,
   "metadata": {},
   "outputs": [
    {
     "name": "stdout",
     "output_type": "stream",
     "text": [
      "CSV loaded successfully with 9818 valid rows!\n",
      "Converted Master1.csv to sampled_dataset.jsonl successfully!\n"
     ]
    }
   ],
   "source": [
    "import pandas as pd\n",
    "import json\n",
    "\n",
    "\n",
    "csv_file = \"Master1.csv\"  \n",
    "\n",
    "try:\n",
    "\n",
    "    df = pd.read_csv(csv_file, on_bad_lines=\"skip\", engine=\"python\")\n",
    "    print(f\"CSV loaded successfully with {len(df)} valid rows!\")\n",
    "\n",
    "\n",
    "    df = df.reset_index(drop=True)\n",
    "\n",
    "    df = df[['Comment', 'Translated_Comment', 'Hate Speech', 'Geography']].dropna()\n",
    "    sampled_df = df.groupby(['Geography', 'Hate Speech'], group_keys=False).apply(lambda x: x.sample(n=100, random_state=42))\n",
    "    jsonl_file = \"sampled_dataset.jsonl\"\n",
    "\n",
    "\n",
    "    with open(jsonl_file, \"w\", encoding=\"utf-8\") as outfile:\n",
    "        for idx, row in sampled_df.iterrows():\n",
    "            json_object = row.to_dict()\n",
    "            json_object['idx'] = idx  \n",
    "            outfile.write(json.dumps(json_object, ensure_ascii=False) + \"\\n\")\n",
    "\n",
    "    print(f\"Converted {csv_file} to {jsonl_file} successfully!\")\n",
    "\n",
    "except Exception as e:\n",
    "    print(f\"An error occurred: {e}\")\n"
   ]
  },
  {
   "cell_type": "code",
   "execution_count": 3,
   "metadata": {},
   "outputs": [
    {
     "name": "stdout",
     "output_type": "stream",
     "text": [
      "Geography        Hate Speech\n",
      "Arab             0              100\n",
      "                 1              100\n",
      "Bangladesh       0              100\n",
      "                 1              100\n",
      "China            0              100\n",
      "                 1              100\n",
      "India            0              100\n",
      "                 1              100\n",
      "Russia_Ukaraine  0              100\n",
      "                 1              100\n",
      "Name: count, dtype: int64\n"
     ]
    }
   ],
   "source": [
    "grouped_counts = sampled_df.groupby('Geography')['Hate Speech'].value_counts()\n",
    "print(grouped_counts)\n"
   ]
  },
  {
   "cell_type": "code",
   "execution_count": 12,
   "metadata": {},
   "outputs": [
    {
     "name": "stdout",
     "output_type": "stream",
     "text": [
      "9215\n"
     ]
    }
   ],
   "source": [
    "filter_df = df[['Comment', 'Translated_Comment', 'Hate Speech', 'Geography']].dropna()\n",
    "print(len(filter_df))\n"
   ]
  },
  {
   "cell_type": "code",
   "execution_count": 14,
   "metadata": {},
   "outputs": [
    {
     "data": {
      "text/plain": [
       "array(['0', '1'], dtype=object)"
      ]
     },
     "execution_count": 14,
     "metadata": {},
     "output_type": "execute_result"
    }
   ],
   "source": [
    "filter_df['Hate Speech'].unique()"
   ]
  }
 ],
 "metadata": {
  "kernelspec": {
   "display_name": "venv",
   "language": "python",
   "name": "python3"
  },
  "language_info": {
   "codemirror_mode": {
    "name": "ipython",
    "version": 3
   },
   "file_extension": ".py",
   "mimetype": "text/x-python",
   "name": "python",
   "nbconvert_exporter": "python",
   "pygments_lexer": "ipython3",
   "version": "3.10.12"
  }
 },
 "nbformat": 4,
 "nbformat_minor": 2
}
