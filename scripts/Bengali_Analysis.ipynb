{
 "cells": [
  {
   "cell_type": "code",
   "execution_count": 2,
   "metadata": {},
   "outputs": [
    {
     "name": "stdout",
     "output_type": "stream",
     "text": [
      "Filtered dataset saved to /home/monoshi/Evaluating LLMs on Hate Speech Detection/data/Bengali_filtered_dataset.jsonl\n"
     ]
    }
   ],
   "source": [
    "import json\n",
    "\n",
    "\n",
    "input_file = \"/home/monoshi/Evaluating LLMs on Hate Speech Detection/data/sampled_dataset.jsonl\"\n",
    "output_file = \"/home/monoshi/Evaluating LLMs on Hate Speech Detection/data/Bengali_filtered_dataset.jsonl\"\n",
    "\n",
    "\n",
    "with open(input_file, \"r\", encoding=\"utf-8\") as infile, open(output_file, \"w\", encoding=\"utf-8\") as outfile:\n",
    "    for line in infile:\n",
    "        record = json.loads(line)\n",
    "        if record.get(\"Geography\") == \"Bangladesh\":\n",
    "            record.pop(\"Translated_Comment\", None)\n",
    "            json.dump(record, outfile, ensure_ascii=False)\n",
    "            outfile.write(\"\\n\")\n",
    "\n",
    "print(f\"Filtered dataset saved to {output_file}\")\n"
   ]
  }
 ],
 "metadata": {
  "kernelspec": {
   "display_name": "Python 3",
   "language": "python",
   "name": "python3"
  },
  "language_info": {
   "codemirror_mode": {
    "name": "ipython",
    "version": 3
   },
   "file_extension": ".py",
   "mimetype": "text/x-python",
   "name": "python",
   "nbconvert_exporter": "python",
   "pygments_lexer": "ipython3",
   "version": "3.10.12"
  }
 },
 "nbformat": 4,
 "nbformat_minor": 2
}
